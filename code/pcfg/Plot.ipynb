{
 "cells": [
  {
   "cell_type": "code",
   "execution_count": null,
   "metadata": {
    "collapsed": true
   },
   "outputs": [],
   "source": [
    "import util\n",
    "import matplotlib.pyplot as plt\n",
    "import seaborn as sns"
   ]
  },
  {
   "cell_type": "code",
   "execution_count": null,
   "metadata": {
    "collapsed": true
   },
   "outputs": [],
   "source": [
    "import torch"
   ]
  },
  {
   "cell_type": "code",
   "execution_count": null,
   "metadata": {
    "collapsed": true
   },
   "outputs": [],
   "source": [
    "def normalize(x, dim=0):\n",
    "    return x / torch.sum(x, dim=0, keepdim=True)"
   ]
  },
  {
   "cell_type": "code",
   "execution_count": null,
   "metadata": {},
   "outputs": [],
   "source": [
    "def get_production_probs(generative_model):\n",
    "    return {\n",
    "        non_terminal: normalize(torch.exp(generative_model.production_logits[non_terminal])).detach()\n",
    "        for non_terminal in generative_model.grammar['non_terminals']\n",
    "    }"
   ]
  },
  {
   "cell_type": "code",
   "execution_count": null,
   "metadata": {},
   "outputs": [],
   "source": [
    "learned_probs = get_production_probs(generative_model)"
   ]
  },
  {
   "cell_type": "code",
   "execution_count": null,
   "metadata": {
    "collapsed": true
   },
   "outputs": [],
   "source": [
    "true_probs = get_production_probs(true_generative_model)"
   ]
  },
  {
   "cell_type": "code",
   "execution_count": null,
   "metadata": {
    "collapsed": true
   },
   "outputs": [],
   "source": [
    "true_probs = torch.exp(true_generative_model.production_logits['NP']).detach().numpy()"
   ]
  },
  {
   "cell_type": "code",
   "execution_count": null,
   "metadata": {
    "collapsed": true
   },
   "outputs": [],
   "source": [
    "import numpy as np"
   ]
  },
  {
   "cell_type": "code",
   "execution_count": null,
   "metadata": {},
   "outputs": [],
   "source": [
    "non_terminals = generative_model.grammar['non_terminals']\n",
    "\n",
    "fig, axs = plt.subplots(1, len(non_terminals), dpi=100, figsize=(24, 3), sharey=True)\n",
    "\n",
    "for non_terminal, ax in zip(non_terminals, axs):\n",
    "    num_productions = len(generative_model.grammar['productions'][non_terminal])\n",
    "    ax.bar(np.arange(num_productions) - 0.2, learned_probs[non_terminal], width=0.3, label='learned')\n",
    "    ax.bar(np.arange(num_productions) + 0.2, true_probs[non_terminal], width=0.3, label='true')\n",
    "\n",
    "    ax.grid(which='major', axis='y')\n",
    "    ax.set_ylim(0, 1)\n",
    "    ax.set_xticks([])\n",
    "    # ax.set_xticklabels(generative_model.grammar['productions']['NP'], rotation=90)\n",
    "    ax.set_title('production probs of {}'.format(non_terminal))\n",
    "\n",
    "    sns.despine(ax=ax)\n",
    "    \n",
    "axs[-1].legend()"
   ]
  },
  {
   "cell_type": "code",
   "execution_count": null,
   "metadata": {},
   "outputs": [],
   "source": [
    "generative_model.grammar['productions']['NP']"
   ]
  },
  {
   "cell_type": "code",
   "execution_count": null,
   "metadata": {},
   "outputs": [],
   "source": [
    "generative_model.grammar['productions']['NP']"
   ]
  },
  {
   "cell_type": "code",
   "execution_count": null,
   "metadata": {},
   "outputs": [],
   "source": [
    "torch.exp(true_generative_model.production_logits['NP'])"
   ]
  },
  {
   "cell_type": "code",
   "execution_count": null,
   "metadata": {},
   "outputs": [],
   "source": [
    "true_generative_model.grammar['productions']['NP']"
   ]
  },
  {
   "cell_type": "code",
   "execution_count": null,
   "metadata": {},
   "outputs": [],
   "source": [
    "fig, axs = plt.subplots(1, 3, dpi=200)\n",
    "axs[0].imshow(inference_network.inference_gru.weight_hh.detach().numpy(), cmap='Greys')\n",
    "axs[1].imshow(inference_network.inference_gru.weight_ih.detach().numpy(), cmap='Greys')\n",
    "axs[2].imshow(inference_network.proposal_layers['NP'][0].weight.detach().numpy(), cmap='Greys')\n",
    "\n",
    "for ax in axs:\n",
    "    sns.despine(ax=ax, bottom=True, left=True)\n",
    "    ax.set_yticks([])\n",
    "    ax.set_xticks([])"
   ]
  },
  {
   "cell_type": "code",
   "execution_count": null,
   "metadata": {
    "collapsed": true
   },
   "outputs": [],
   "source": []
  }
 ],
 "metadata": {
  "kernelspec": {
   "display_name": "Python 3",
   "language": "python",
   "name": "python3"
  },
  "language_info": {
   "codemirror_mode": {
    "name": "ipython",
    "version": 3
   },
   "file_extension": ".py",
   "mimetype": "text/x-python",
   "name": "python",
   "nbconvert_exporter": "python",
   "pygments_lexer": "ipython3",
   "version": "3.5.2"
  }
 },
 "nbformat": 4,
 "nbformat_minor": 2
}
