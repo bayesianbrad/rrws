{
 "cells": [
  {
   "cell_type": "code",
   "execution_count": 1,
   "metadata": {
    "collapsed": true
   },
   "outputs": [],
   "source": [
    "from neural_nets import *\n",
    "from torch.autograd import Variable\n",
    "from util import *\n",
    "\n",
    "import aesmc.inference\n",
    "import aesmc.state as st\n",
    "import aesmc.util\n",
    "import aesmc.wakesleep\n",
    "import logging\n",
    "import matplotlib\n",
    "import matplotlib.pyplot as plt\n",
    "import numpy as np\n",
    "import scipy as sp\n",
    "\n",
    "SMALL_SIZE = 7\n",
    "MEDIUM_SIZE = 9\n",
    "BIGGER_SIZE = 11\n",
    "\n",
    "plt.rc('font', size=SMALL_SIZE)          # controls default text sizes\n",
    "plt.rc('axes', titlesize=SMALL_SIZE)     # fontsize of the axes title\n",
    "plt.rc('axes', labelsize=SMALL_SIZE)     # fontsize of the x and y labels\n",
    "plt.rc('xtick', labelsize=SMALL_SIZE)    # fontsize of the tick labels\n",
    "plt.rc('ytick', labelsize=SMALL_SIZE)    # fontsize of the tick labels\n",
    "plt.rc('legend', fontsize=SMALL_SIZE)    # legend fontsize\n",
    "plt.rc('figure', titlesize=BIGGER_SIZE)  # fontsize of the figure title\n",
    "\n",
    "plt.switch_backend('agg')\n",
    "\n",
    "% matplotlib inline"
   ]
  },
  {
   "cell_type": "code",
   "execution_count": 5,
   "metadata": {
    "collapsed": true
   },
   "outputs": [],
   "source": [
    "def get_posterior(\n",
    "    hmm_initial, hmm_transition, hmm_emission, hmm_proposal, test_num_particles, test_algorithm, observations\n",
    "):\n",
    "    hmm_initial.batch_size = 1\n",
    "    hmm_initial.num_particles = test_num_particles\n",
    "    hmm_transition.batch_size = 1\n",
    "    hmm_transition.num_particles = test_num_particles\n",
    "    hmm_emission.batch_size = 1\n",
    "    hmm_emission.num_particles = test_num_particles\n",
    "    hmm_proposal.batch_size = 1\n",
    "    hmm_proposal.num_particles = test_num_particles\n",
    "    \n",
    "    test_observation_states = [st.State(\n",
    "        batch_size=1,\n",
    "        num_particles=test_num_particles,\n",
    "        values={\n",
    "            'y': Variable(torch.Tensor([observation]).unsqueeze(0).expand(1, test_num_particles))\n",
    "        }\n",
    "    ) for observation in test_data]\n",
    "    inference_result = aesmc.inference.infer(\n",
    "        test_algorithm,\n",
    "        test_observation_states,\n",
    "        hmm_initial,\n",
    "        hmm_transition,\n",
    "        hmm_emission,\n",
    "        hmm_proposal,\n",
    "        test_num_particles\n",
    "    )\n",
    "    \n",
    "    # latent states\n",
    "    latent_states = np.array([\n",
    "        latent_state.x.data.numpy().flatten() for latent_state in inference_result.latent_states\n",
    "    ]).transpose()\n",
    "    num_particles, num_timesteps = latent_states.shape\n",
    "\n",
    "    # weights\n",
    "    unnormalized_log_weights = inference_result.log_weight.data.numpy().flatten()\n",
    "    normalized_log_weights = unnormalized_log_weights - \\\n",
    "        sp.special.logsumexp(unnormalized_log_weights)\n",
    "    normalized_weights = np.exp(normalized_log_weights)\n",
    "    normalized_weights_duplicated = np.tile(\n",
    "        np.reshape(normalized_weights, (-1, 1)), reps=(1, num_timesteps)\n",
    "    )\n",
    "\n",
    "    posterior = np.zeros((num_states, num_timesteps))\n",
    "    for state in range(num_states):\n",
    "        posterior[state] = np.sum(\n",
    "            normalized_weights_duplicated * (latent_states == state), axis=0\n",
    "        )\n",
    "\n",
    "    return posterior\n",
    "\n",
    "\n",
    "def get_true_posterior(initial_probs, transition_probs, obs_means, obs_vars, observations):\n",
    "    my_hmm = make_hmm(initial_probs, transition_probs, obs_means, obs_vars)\n",
    "    return my_hmm.predict_proba(np.reshape(observations, (-1, 1))).transpose()\n",
    "\n",
    "\n",
    "def get_sum_kl(posterior_1, posterior_2, epsilon=1e-10):\n",
    "    return np.sum(\n",
    "        posterior_1 * (\n",
    "            np.log(posterior_1 + epsilon) - np.log(posterior_2 + epsilon)\n",
    "        )\n",
    "    )\n",
    "\n",
    "\n",
    "def get_sum_l2(posterior_1, posterior_2):\n",
    "    return np.sum(np.sqrt(np.sum((posterior_1 - posterior_2)**2, axis=0)))"
   ]
  },
  {
   "cell_type": "code",
   "execution_count": 6,
   "metadata": {},
   "outputs": [
    {
     "name": "stderr",
     "output_type": "stream",
     "text": [
      "/Users/tuananhle/anaconda/lib/python3.5/site-packages/sklearn/utils/deprecation.py:77: DeprecationWarning: Function log_multivariate_normal_density is deprecated; The function log_multivariate_normal_density is deprecated in 0.18 and will be removed in 0.20.\n",
      "  warnings.warn(msg, category=DeprecationWarning)\n",
      "/Users/tuananhle/anaconda/lib/python3.5/site-packages/sklearn/utils/deprecation.py:77: DeprecationWarning: Function logsumexp is deprecated; sklearn.utils.extmath.logsumexp was deprecated in version 0.19 and will be removed in 0.21. Use scipy.misc.logsumexp instead.\n",
      "  warnings.warn(msg, category=DeprecationWarning)\n",
      "/Users/tuananhle/anaconda/lib/python3.5/site-packages/sklearn/utils/deprecation.py:77: DeprecationWarning: Function logsumexp is deprecated; sklearn.utils.extmath.logsumexp was deprecated in version 0.19 and will be removed in 0.21. Use scipy.misc.logsumexp instead.\n",
      "  warnings.warn(msg, category=DeprecationWarning)\n"
     ]
    }
   ],
   "source": [
    "algorithm = 'is'\n",
    "num_particles = 20\n",
    "\n",
    "initial_probs, true_transition_probs, obs_means, obs_vars = \\\n",
    "    read_model('model.csv')\n",
    "num_states = len(initial_probs)\n",
    "\n",
    "hmm_initial = HMMInitialDistribution(initial_probs)\n",
    "hmm_transition = HMMTransitionNetwork(num_states)\n",
    "hmm_emission = HMMEmissionDistribution(obs_means, obs_vars)\n",
    "hmm_proposal = HMMProposalNetwork(num_states)\n",
    "\n",
    "hmm_wakesleep = aesmc.wakesleep.WakeSleep(\n",
    "    hmm_initial, hmm_transition, hmm_emission, hmm_proposal\n",
    ")\n",
    "hmm_wakesleep.load_state_dict(torch.load(\n",
    "    '{}_{}_hmm_wakesleep.pt'.format(algorithm, num_particles),\n",
    "    map_location=lambda storage, loc: storage\n",
    "))\n",
    "\n",
    "test_data = np.genfromtxt('test_data.csv', delimiter=',')\n",
    "test_algorithm = 'is'\n",
    "test_num_particles = 50\n",
    "\n",
    "true_posterior = get_true_posterior(initial_probs, true_transition_probs, obs_means, obs_vars, test_data)\n",
    "posterior = get_posterior(hmm_initial, hmm_transition, hmm_emission, hmm_proposal, test_num_particles, test_algorithm, test_data)"
   ]
  },
  {
   "cell_type": "code",
   "execution_count": 7,
   "metadata": {},
   "outputs": [
    {
     "data": {
      "image/png": "[encoded data removed]",
      "text/plain": [
       "<matplotlib.figure.Figure at 0x1a16fa1cc0>"
      ]
     },
     "metadata": {},
     "output_type": "display_data"
    }
   ],
   "source": [
    "fig = plt.figure()\n",
    "fig.set_size_inches(3.25, 2)\n",
    "fig.suptitle('{} particle{}'.format(\n",
    "    num_particles, '' if num_particles == 1 else 's'\n",
    "), fontsize=14, x=0.4, horizontalalignment='center')\n",
    "\n",
    "gs = matplotlib.gridspec.GridSpec(2, 2)\n",
    "axs = [plt.subplot(gs[i, :-1])\n",
    "       for i in range(2)]\n",
    "colorbar_ax = plt.subplot(gs[:, -1], aspect=50)\n",
    "\n",
    "temp = axs[0].imshow(\n",
    "    true_posterior, clim=[0, 1]\n",
    ")\n",
    "axs[0].grid(False)\n",
    "axs[0].set_ylabel('State')\n",
    "axs[0].set_title('Ground Truth', fontsize=12)\n",
    "axs[0].set_xticks([])\n",
    "axs[0].set_yticks(range(num_states))\n",
    "\n",
    "for ax, algorithm in zip(axs[1:], ['is']):\n",
    "    temp = ax.imshow(\n",
    "        posterior,\n",
    "        clim=[0, 1]\n",
    "    )\n",
    "    ax.grid(False)\n",
    "    ax.set_ylabel('State')\n",
    "    ax.set_title(algorithm.upper(), fontsize=12)\n",
    "    ax.set_xticks([])\n",
    "    ax.set_yticks(range(num_states))\n",
    "\n",
    "axs[-1].set_xticks(np.arange(16))\n",
    "axs[-1].set_xlabel('Time')\n",
    "fig.colorbar(\n",
    "    temp, cax=colorbar_ax, orientation='vertical', ticks=[0, 1]\n",
    ")\n",
    "\n",
    "fig.tight_layout()\n",
    "gs.tight_layout(fig, rect=[0, 0, 1, 0.95])"
   ]
  },
  {
   "cell_type": "code",
   "execution_count": 8,
   "metadata": {},
   "outputs": [
    {
     "data": {
      "text/plain": [
       "1.1854882127030846"
      ]
     },
     "execution_count": 8,
     "metadata": {},
     "output_type": "execute_result"
    }
   ],
   "source": [
    "get_sum_l2(true_posterior, posterior)"
   ]
  },
  {
   "cell_type": "code",
   "execution_count": 9,
   "metadata": {},
   "outputs": [
    {
     "data": {
      "text/plain": [
       "0.52591879610974157"
      ]
     },
     "execution_count": 9,
     "metadata": {},
     "output_type": "execute_result"
    }
   ],
   "source": [
    "get_sum_kl(true_posterior, posterior)"
   ]
  },
  {
   "cell_type": "code",
   "execution_count": null,
   "metadata": {
    "collapsed": true
   },
   "outputs": [],
   "source": []
  }
 ],
 "metadata": {
  "kernelspec": {
   "display_name": "Python 3",
   "language": "python",
   "name": "python3"
  },
  "language_info": {
   "codemirror_mode": {
    "name": "ipython",
    "version": 3
   },
   "file_extension": ".py",
   "mimetype": "text/x-python",
   "name": "python",
   "nbconvert_exporter": "python",
   "pygments_lexer": "ipython3",
   "version": "3.5.2"
  }
 },
 "nbformat": 4,
 "nbformat_minor": 2
}
